{
  "nbformat": 4,
  "nbformat_minor": 0,
  "metadata": {
    "colab": {
      "name": "Numpy@coreTech.ipynb",
      "provenance": [],
      "authorship_tag": "ABX9TyP7MWIXK9MOSsqWcbdTfzKO",
      "include_colab_link": true
    },
    "kernelspec": {
      "name": "python3",
      "display_name": "Python 3"
    },
    "language_info": {
      "name": "python"
    }
  },
  "cells": [
    {
      "cell_type": "markdown",
      "metadata": {
        "id": "view-in-github",
        "colab_type": "text"
      },
      "source": [
        "<a href=\"https://colab.research.google.com/github/VikrantKapoor24/Numpy-coreTech/blob/main/Numpy_coreTech.ipynb\" target=\"_parent\"><img src=\"https://colab.research.google.com/assets/colab-badge.svg\" alt=\"Open In Colab\"/></a>"
      ]
    },
    {
      "cell_type": "code",
      "metadata": {
        "colab": {
          "base_uri": "https://localhost:8080/"
        },
        "id": "VlXMW2G-Os2v",
        "outputId": "26ccfd27-cf1f-455f-ad3c-5473c2d0cfa1"
      },
      "source": [
        "import numpy as na\n",
        "sp=[5,3,7,0,58]\n",
        "x=na.array(sp)\n",
        "print(x)\n",
        "print(na.array(sp))\n",
        "\t\t\t\t\t\t\t\t\t"
      ],
      "execution_count": null,
      "outputs": [
        {
          "output_type": "stream",
          "text": [
            "[ 5  3  7  0 58]\n",
            "[ 5  3  7  0 58]\n"
          ],
          "name": "stdout"
        }
      ]
    },
    {
      "cell_type": "code",
      "metadata": {
        "colab": {
          "base_uri": "https://localhost:8080/"
        },
        "id": "q1LkIU4pPSju",
        "outputId": "13b19efc-8720-4429-84f9-004d12ccd623"
      },
      "source": [
        "import numpy as na\n",
        "marks=[ [4,3,5] , [6,4,7] ]\n",
        "x=na.array(marks)\n",
        "print(x)\n",
        "print(x[1])\n",
        "print(x[1][0])\n",
        "print(x[1][2])\n",
        "\n"
      ],
      "execution_count": null,
      "outputs": [
        {
          "output_type": "stream",
          "text": [
            "[[4 3 5]\n",
            " [6 4 7]]\n",
            "[6 4 7]\n",
            "6\n",
            "7\n"
          ],
          "name": "stdout"
        }
      ]
    },
    {
      "cell_type": "code",
      "metadata": {
        "colab": {
          "base_uri": "https://localhost:8080/"
        },
        "id": "0vJfmhDPRe35",
        "outputId": "7376f44a-c227-4277-ea5e-55e42d8ffd9f"
      },
      "source": [
        "import numpy as np\n",
        "arr = np.array([[1, 2, 3],\n",
        "                [4, 5, 6]])\n",
        "print(\"Array with List  \\n\", arr)\n",
        "\n",
        "arr = np.array((1, 3, 2))\n",
        "print(\"\\nArray using  tuple:\\n\", arr)\n",
        "\n",
        "arr=np.array({1:\"one\", 2:\"two\"})\n",
        "print(\"\\n Array using Dictionary \", arr)\n"
      ],
      "execution_count": null,
      "outputs": [
        {
          "output_type": "stream",
          "text": [
            "Array with List  \n",
            " [[1 2 3]\n",
            " [4 5 6]]\n",
            "\n",
            "Array using  tuple:\n",
            " [1 3 2]\n",
            "\n",
            " Array using Dictionary  {1: 'one', 2: 'two'}\n"
          ],
          "name": "stdout"
        }
      ]
    },
    {
      "cell_type": "code",
      "metadata": {
        "colab": {
          "base_uri": "https://localhost:8080/"
        },
        "id": "G__NazsISD3N",
        "outputId": "cbdca507-b84c-4e7e-bf66-2cbec262a923"
      },
      "source": [
        "import numpy as np\n",
        "\n",
        "arr = np.array([[-1, 2, 0, 4],\n",
        "                [4, -0.5, 6, 0],\n",
        "                [2.6, 0, 7, 8],\n",
        "                [3, -7, 4, 2.0]])\n",
        "print(\"Initial Array: \")\n",
        "print(arr)\n",
        "sliced_arr = arr[:2, ::2]\n",
        "print (\"Array with first 2 rows and alternate columns(0 and 2):\\n\", sliced_arr)\n",
        "Index_arr = arr[[1, 1, 0, 3], \n",
        "                [3, 2, 1, 0]]\n",
        "print (\"\\nElements at indices (1, 3), (1, 2), (0, 1), (3, 0):\\n\", Index_arr)\n"
      ],
      "execution_count": null,
      "outputs": [
        {
          "output_type": "stream",
          "text": [
            "Initial Array: \n",
            "[[-1.   2.   0.   4. ]\n",
            " [ 4.  -0.5  6.   0. ]\n",
            " [ 2.6  0.   7.   8. ]\n",
            " [ 3.  -7.   4.   2. ]]\n",
            "Array with first 2 rows and alternate columns(0 and 2):\n",
            " [[-1.  0.]\n",
            " [ 4.  6.]]\n",
            "\n",
            "Elements at indices (1, 3), (1, 2), (0, 1), (3, 0):\n",
            " [0. 6. 2. 3.]\n"
          ],
          "name": "stdout"
        }
      ]
    },
    {
      "cell_type": "code",
      "metadata": {
        "colab": {
          "base_uri": "https://localhost:8080/"
        },
        "id": "O3z5_V72SzoU",
        "outputId": "b5165a9d-210c-4d0f-d6ed-649384ab7847"
      },
      "source": [
        "import numpy as np\n",
        "a = np.array([[1, 2], [3, 4]])\n",
        "\n",
        "b = np.array([[4, 3],[2, 1]])\n",
        "\n",
        "print (\"Adding 1 to every element:\", a + 1)\n",
        "\n",
        "print (\"\\nSubtracting 2 from each element:\", b - 2)\n",
        "\n",
        "print (\"\\nSum of all array elements: \", a.sum())\n",
        "\n",
        "print (\"\\nArray sum:\\n\", a + b)\n"
      ],
      "execution_count": null,
      "outputs": [
        {
          "output_type": "stream",
          "text": [
            "Adding 1 to every element: [[2 3]\n",
            " [4 5]]\n",
            "\n",
            "Subtracting 2 from each element: [[ 2  1]\n",
            " [ 0 -1]]\n",
            "\n",
            "Sum of all array elements:  10\n",
            "\n",
            "Array sum:\n",
            " [[5 5]\n",
            " [5 5]]\n"
          ],
          "name": "stdout"
        }
      ]
    },
    {
      "cell_type": "code",
      "metadata": {
        "colab": {
          "base_uri": "https://localhost:8080/"
        },
        "id": "E4kpBMC5UNna",
        "outputId": "55c5c2c7-6328-45c9-9e7a-1c71ea0b911e"
      },
      "source": [
        "import numpy as nu \n",
        "a=nu.array(['Piyush','Priyank','Roshan'])\n",
        "b=nu.array( [ [456,563,4,5,45],[435,34,53,53,45] ] )\n",
        "print(a,b)\n",
        "print(type(a), type(b))\n",
        "print(a.shape, b.shape)\n",
        "print(a.itemsize, b.itemsize)"
      ],
      "execution_count": null,
      "outputs": [
        {
          "output_type": "stream",
          "text": [
            "['Piyush' 'Priyank' 'Roshan'] [[456 563   4   5  45]\n",
            " [435  34  53  53  45]]\n",
            "<class 'numpy.ndarray'> <class 'numpy.ndarray'>\n",
            "(3,) (2, 5)\n",
            "28 8\n"
          ],
          "name": "stdout"
        }
      ]
    },
    {
      "cell_type": "code",
      "metadata": {
        "colab": {
          "base_uri": "https://localhost:8080/"
        },
        "id": "OPQip2sNUw2g",
        "outputId": "897b504a-1a0d-405a-cdf4-49ef57260577"
      },
      "source": [
        "\n",
        "import numpy as np \n",
        "als={10000:\"a\" , 25000:\"b\", 3:\"c\",4:\"d\",5:\"e\"}\n",
        "ar3=np.fromiter(als,dtype=np.int32)\n",
        "print(ar3)\n",
        "ar4=np.fromiter(als,dtype=np.int64)\n",
        "print(ar4)\n",
        "ar5=np.fromiter(als,dtype=np.float32)\n",
        "print(ar5)\n",
        "\n"
      ],
      "execution_count": null,
      "outputs": [
        {
          "output_type": "stream",
          "text": [
            "[10000 25000     3     4     5]\n",
            "[10000 25000     3     4     5]\n",
            "[1.0e+04 2.5e+04 3.0e+00 4.0e+00 5.0e+00]\n"
          ],
          "name": "stdout"
        }
      ]
    },
    {
      "cell_type": "code",
      "metadata": {
        "colab": {
          "base_uri": "https://localhost:8080/"
        },
        "id": "-c0rpffGVX1_",
        "outputId": "af6823bd-116f-4102-9b53-9b9b0f1d8551"
      },
      "source": [
        "\n",
        "import numpy as np \n",
        "als=[\"a\",\"b\",\"c\",\"d\",\"e\"]\n",
        "atp=(1.5,2.5,3.5,4.5,6.6)\n",
        "als2=  [ a*2 -3 for a in range(2,6) ] \n",
        "print(als2)\n",
        "als3=  [ a*10 -5 for a in range(5,25,5) ] \n",
        "print(als3)\n"
      ],
      "execution_count": null,
      "outputs": [
        {
          "output_type": "stream",
          "text": [
            "[1, 3, 5, 7]\n",
            "[45, 95, 145, 195]\n"
          ],
          "name": "stdout"
        }
      ]
    },
    {
      "cell_type": "code",
      "metadata": {
        "colab": {
          "base_uri": "https://localhost:8080/"
        },
        "id": "8m63gDNCVzuY",
        "outputId": "cd726fd3-00a3-4f6a-8f80-0fe0bc9458d1"
      },
      "source": [
        "\n",
        "import numpy as np \n",
        "astr=\"This is Piyush\"\n",
        "val=np.fromiter(astr,dtype=\"U2\")\n",
        "print(val)"
      ],
      "execution_count": null,
      "outputs": [
        {
          "output_type": "stream",
          "text": [
            "['T' 'h' 'i' 's' ' ' 'i' 's' ' ' 'P' 'i' 'y' 'u' 's' 'h']\n"
          ],
          "name": "stdout"
        }
      ]
    },
    {
      "cell_type": "code",
      "metadata": {
        "colab": {
          "base_uri": "https://localhost:8080/"
        },
        "id": "jvKXPQd5WF4u",
        "outputId": "9b256339-94b9-4fcd-9369-ded861f019da"
      },
      "source": [
        "\n",
        "import numpy as np \n",
        "astr=\"This is PiyusH\"\n",
        "val=np.fromiter(astr,dtype=\"U2\")\n",
        "print(val)\n",
        "print(val[1])\n",
        "print(val[-1])\n"
      ],
      "execution_count": null,
      "outputs": [
        {
          "output_type": "stream",
          "text": [
            "['T' 'h' 'i' 's' ' ' 'i' 's' ' ' 'P' 'i' 'y' 'u' 's' 'H']\n",
            "h\n",
            "H\n"
          ],
          "name": "stdout"
        }
      ]
    },
    {
      "cell_type": "code",
      "metadata": {
        "colab": {
          "base_uri": "https://localhost:8080/"
        },
        "id": "TqNR370qeSMH",
        "outputId": "0a7c9a72-7df9-489d-b631-a5d4822d3881"
      },
      "source": [
        "import numpy as np\n",
        "rat=np.arange(6)\n",
        "print(rat)\n",
        "\n",
        "ca=np.arange(5, dtype='float32')\n",
        "print(ca)\n",
        "\n",
        "cx=np.linspace(10,20,6)\n",
        "print(cx)\n",
        "\n",
        "cxa=np.linspace(15,20,8)\n",
        "print(cxa)\n",
        "\n",
        "gr=np.arange(6)\n",
        "print(gr)\n",
        "ngr=gr.reshape(2,3)\n",
        "print(ngr)\n",
        "mgr=gr.reshape(3,2)\n",
        "print(mgr)\n",
        "\n"
      ],
      "execution_count": null,
      "outputs": [
        {
          "output_type": "stream",
          "text": [
            "[0 1 2 3 4 5]\n",
            "[0. 1. 2. 3. 4.]\n",
            "[10. 12. 14. 16. 18. 20.]\n",
            "[15.         15.71428571 16.42857143 17.14285714 17.85714286 18.57142857\n",
            " 19.28571429 20.        ]\n",
            "[0 1 2 3 4 5]\n",
            "[[0 1 2]\n",
            " [3 4 5]]\n",
            "[[0 1]\n",
            " [2 3]\n",
            " [4 5]]\n"
          ],
          "name": "stdout"
        }
      ]
    },
    {
      "cell_type": "code",
      "metadata": {
        "colab": {
          "base_uri": "https://localhost:8080/"
        },
        "id": "l3RC0fhmeUS-",
        "outputId": "1ae9107d-09f9-4987-e2db-18b5c00cabbb"
      },
      "source": [
        "import numpy as np \n",
        "a=np.arange(6)\n",
        "print(a)\n",
        "b=a.reshape(2,3)\n",
        "print(b)\n",
        "c=a.reshape(3,2)\n",
        "print(c)\n",
        "d=a.reshape(6,1)\n",
        "print(d)\n",
        "e=a.reshape(1,6)\n",
        "print(e)\n"
      ],
      "execution_count": null,
      "outputs": [
        {
          "output_type": "stream",
          "text": [
            "[0 1 2 3 4 5]\n",
            "[[0 1 2]\n",
            " [3 4 5]]\n",
            "[[0 1]\n",
            " [2 3]\n",
            " [4 5]]\n",
            "[[0]\n",
            " [1]\n",
            " [2]\n",
            " [3]\n",
            " [4]\n",
            " [5]]\n",
            "[[0 1 2 3 4 5]]\n"
          ],
          "name": "stdout"
        }
      ]
    },
    {
      "cell_type": "code",
      "metadata": {
        "colab": {
          "base_uri": "https://localhost:8080/"
        },
        "id": "bvk0oSJ5eWhH",
        "outputId": "1a81dd30-f82e-47eb-b4b6-fc40dc086ccd"
      },
      "source": [
        "import numpy as np \n",
        "a=np.arange(8)\n",
        "print(a)\n",
        "b=a.reshape(2,4)\n",
        "print(b)\n",
        "c=a.reshape(4,2)\n",
        "print(c)\n",
        "d=a.reshape(8,1)\n",
        "print(d)\n",
        "e=a.reshape(1,8)\n",
        "print(e)\n"
      ],
      "execution_count": null,
      "outputs": [
        {
          "output_type": "stream",
          "text": [
            "[0 1 2 3 4 5 6 7]\n",
            "[[0 1 2 3]\n",
            " [4 5 6 7]]\n",
            "[[0 1]\n",
            " [2 3]\n",
            " [4 5]\n",
            " [6 7]]\n",
            "[[0]\n",
            " [1]\n",
            " [2]\n",
            " [3]\n",
            " [4]\n",
            " [5]\n",
            " [6]\n",
            " [7]]\n",
            "[[0 1 2 3 4 5 6 7]]\n"
          ],
          "name": "stdout"
        }
      ]
    },
    {
      "cell_type": "code",
      "metadata": {
        "colab": {
          "base_uri": "https://localhost:8080/"
        },
        "id": "fxSYad-DeYv1",
        "outputId": "58c810de-962d-4b29-a24b-ed303f71dd19"
      },
      "source": [
        "import numpy as np \n",
        "a=np.arange(10.0).reshape(5,2)\n",
        "print(a)\n",
        "print(np.arange(12.0).reshape(4,3))\n",
        "\n"
      ],
      "execution_count": null,
      "outputs": [
        {
          "output_type": "stream",
          "text": [
            "[[0. 1.]\n",
            " [2. 3.]\n",
            " [4. 5.]\n",
            " [6. 7.]\n",
            " [8. 9.]]\n",
            "[[ 0.  1.  2.]\n",
            " [ 3.  4.  5.]\n",
            " [ 6.  7.  8.]\n",
            " [ 9. 10. 11.]]\n"
          ],
          "name": "stdout"
        }
      ]
    },
    {
      "cell_type": "code",
      "metadata": {
        "colab": {
          "base_uri": "https://localhost:8080/"
        },
        "id": "pd5CIiC7earm",
        "outputId": "8c78d944-c707-4f1d-fe61-50c35de07668"
      },
      "source": [
        "import numpy as np \n",
        "from sys import getsizeof \n",
        "\n",
        "a=np.array([ [41,24] , [445,54] ,[125,141]] , dtype='int16')\n",
        "print(a)\n",
        "print(getsizeof(a))\n"
      ],
      "execution_count": null,
      "outputs": [
        {
          "output_type": "stream",
          "text": [
            "[[ 41  24]\n",
            " [445  54]\n",
            " [125 141]]\n",
            "124\n"
          ],
          "name": "stdout"
        }
      ]
    },
    {
      "cell_type": "code",
      "metadata": {
        "colab": {
          "base_uri": "https://localhost:8080/"
        },
        "id": "uYZXzmtkedF2",
        "outputId": "a62615b4-0516-4161-f578-138256fc3410"
      },
      "source": [
        "import numpy as np \n",
        "a=np.empty( [3,2] )\n",
        "print(a)\n",
        "b=np.empty( [3,2] , dtype=np.int16 )\n",
        "print(b)\n",
        "c=np.empty( [3,2] , dtype=np.int8 )\n",
        "print(c)\n",
        "print(a.dtype , b.dtype)"
      ],
      "execution_count": null,
      "outputs": [
        {
          "output_type": "stream",
          "text": [
            "[[0.0e+000 4.9e-324]\n",
            " [9.9e-324 1.5e-323]\n",
            " [2.0e-323 2.5e-323]]\n",
            "[[ 41  24]\n",
            " [445  54]\n",
            " [125 141]]\n",
            "[[0 1]\n",
            " [1 1]\n",
            " [1 1]]\n",
            "float64 int16\n"
          ],
          "name": "stdout"
        }
      ]
    },
    {
      "cell_type": "code",
      "metadata": {
        "colab": {
          "base_uri": "https://localhost:8080/"
        },
        "id": "6vZJkaNNef8W",
        "outputId": "28923e25-9643-48cb-8a87-60c3a2536bfb"
      },
      "source": [
        "import pandas as pd\n",
        "ds1 = pd.Series([2, 4, 6, 8, 10])\n",
        "ds2 = pd.Series([1, 3, 5, 7, 10])\n",
        "print(\"Series1:\")\n",
        "print(ds1)\n",
        "print(\"Series2:\")\n",
        "print(ds2)\n",
        "print(\"Compare the elements of the said Series:\")\n",
        "print(\"Equals:\")\n",
        "print(ds1 == ds2)\n",
        "print(\"Greater than:\")\n",
        "print(ds1 > ds2)\n",
        "print(\"Less than:\")\n",
        "print(ds1 < ds2)"
      ],
      "execution_count": null,
      "outputs": [
        {
          "output_type": "stream",
          "text": [
            "Series1:\n",
            "0     2\n",
            "1     4\n",
            "2     6\n",
            "3     8\n",
            "4    10\n",
            "dtype: int64\n",
            "Series2:\n",
            "0     1\n",
            "1     3\n",
            "2     5\n",
            "3     7\n",
            "4    10\n",
            "dtype: int64\n",
            "Compare the elements of the said Series:\n",
            "Equals:\n",
            "0    False\n",
            "1    False\n",
            "2    False\n",
            "3    False\n",
            "4     True\n",
            "dtype: bool\n",
            "Greater than:\n",
            "0     True\n",
            "1     True\n",
            "2     True\n",
            "3     True\n",
            "4    False\n",
            "dtype: bool\n",
            "Less than:\n",
            "0    False\n",
            "1    False\n",
            "2    False\n",
            "3    False\n",
            "4    False\n",
            "dtype: bool\n"
          ],
          "name": "stdout"
        }
      ]
    },
    {
      "cell_type": "code",
      "metadata": {
        "colab": {
          "base_uri": "https://localhost:8080/"
        },
        "id": "d8Pfjj5celS-",
        "outputId": "6504115a-d4d3-4850-a7b1-931c84ebc63a"
      },
      "source": [
        "import numpy as np \n",
        "a=np.empty( [3,2] )\n",
        "print(a)\n",
        "b=np.empty( [3,2] , dtype=np.int16 )\n",
        "print(b)\n",
        "c=np.empty( [3,2] , dtype=np.int8 )\n",
        "print(c)\n",
        "print(a.dtype , b.dtype)"
      ],
      "execution_count": null,
      "outputs": [
        {
          "output_type": "stream",
          "text": [
            "[[0.0e+000 4.9e-324]\n",
            " [9.9e-324 1.5e-323]\n",
            " [2.0e-323 2.5e-323]]\n",
            "[[ 12816 -30779]\n",
            " [ 21880      0]\n",
            " [     1      0]]\n",
            "[[0 1]\n",
            " [1 1]\n",
            " [1 1]]\n",
            "float64 int16\n"
          ],
          "name": "stdout"
        }
      ]
    },
    {
      "cell_type": "code",
      "metadata": {
        "colab": {
          "base_uri": "https://localhost:8080/"
        },
        "id": "ZEbmXrh5emFV",
        "outputId": "4a5ba302-2bac-4aac-914f-c12d443a26d2"
      },
      "source": [
        "import numpy as np \n",
        "\n",
        "e=np.zeros( [4,3] )\n",
        "print(e)\n",
        "f=np.zeros( [3,4] , dtype=np.int64 ,order='F')\n",
        "print(f)"
      ],
      "execution_count": null,
      "outputs": [
        {
          "output_type": "stream",
          "text": [
            "[[0. 0. 0.]\n",
            " [0. 0. 0.]\n",
            " [0. 0. 0.]\n",
            " [0. 0. 0.]]\n",
            "[[0 0 0 0]\n",
            " [0 0 0 0]\n",
            " [0 0 0 0]]\n"
          ],
          "name": "stdout"
        }
      ]
    },
    {
      "cell_type": "code",
      "metadata": {
        "colab": {
          "base_uri": "https://localhost:8080/"
        },
        "id": "dvZ3zuJQeoLa",
        "outputId": "09cce1e1-46d2-4339-e424-5cf3f533ca9f"
      },
      "source": [
        "import numpy as np \n",
        "a=np.ones(5)\n",
        "b=np.ones(5, dtype='int32')\n",
        "\n",
        "print(a)\n",
        "print(b)\n",
        "\n",
        "c=np.ones((2,3))\n",
        "print(c)\n",
        "\n",
        "x = np.arange(6)\n",
        "x = x.reshape((2, 3))\n",
        "print(x)\n",
        "print(np.ones_like(x))"
      ],
      "execution_count": 1,
      "outputs": [
        {
          "output_type": "stream",
          "text": [
            "[1. 1. 1. 1. 1.]\n",
            "[1 1 1 1 1]\n",
            "[[1. 1. 1.]\n",
            " [1. 1. 1.]]\n",
            "[[0 1 2]\n",
            " [3 4 5]]\n",
            "[[1 1 1]\n",
            " [1 1 1]]\n"
          ],
          "name": "stdout"
        }
      ]
    },
    {
      "cell_type": "code",
      "metadata": {
        "id": "8IZFHfiGeqT_",
        "colab": {
          "base_uri": "https://localhost:8080/"
        },
        "outputId": "9173fdf9-bcbc-4d56-b413-bd9e8cff2014"
      },
      "source": [
        "import numpy as np \n",
        "\n",
        "e=np.zeros( [4,2] )\n",
        "print(e)\n",
        "f=np.zeros( [1,3] , dtype=np.int64 )\n",
        "\n",
        "print(f)\n",
        "y = np.arange(5, dtype=np.int64)\n",
        "print(y)\n",
        "z= np.zeros_like(y)\n",
        "print(z)"
      ],
      "execution_count": 2,
      "outputs": [
        {
          "output_type": "stream",
          "text": [
            "[[0. 0.]\n",
            " [0. 0.]\n",
            " [0. 0.]\n",
            " [0. 0.]]\n",
            "[[0 0 0]]\n",
            "[0 1 2 3 4]\n",
            "[0 0 0 0 0]\n"
          ],
          "name": "stdout"
        }
      ]
    },
    {
      "cell_type": "code",
      "metadata": {
        "id": "KFyFFTc5esc-",
        "colab": {
          "base_uri": "https://localhost:8080/"
        },
        "outputId": "36ee185e-24a5-4861-a523-0a8dd7a234bd"
      },
      "source": [
        "import numpy as np \n",
        "a=np.ones(3,dtype='int64')\n",
        "b=np.ones(2)\n",
        "print(a,b)\n",
        "c=np.ones((3,3))\n",
        "print(c)\n",
        "x = np.arange(8)\n",
        "x1 = x.reshape((2, 4))\n",
        "print(x1)\n",
        "print(np.ones_like(x1))"
      ],
      "execution_count": 3,
      "outputs": [
        {
          "output_type": "stream",
          "text": [
            "[1 1 1] [1. 1.]\n",
            "[[1. 1. 1.]\n",
            " [1. 1. 1.]\n",
            " [1. 1. 1.]]\n",
            "[[0 1 2 3]\n",
            " [4 5 6 7]]\n",
            "[[1 1 1 1]\n",
            " [1 1 1 1]]\n"
          ],
          "name": "stdout"
        }
      ]
    },
    {
      "cell_type": "code",
      "metadata": {
        "id": "Isg8iHv_eui3",
        "colab": {
          "base_uri": "https://localhost:8080/"
        },
        "outputId": "208c4111-37b7-44fb-8296-7cb084182472"
      },
      "source": [
        "import numpy as np \n",
        "\n",
        "e=np.zeros( [4,3] )\n",
        "print(e)\n",
        "f=np.zeros( [3,4] , dtype=np.int64 )\n",
        "\n",
        "print(f)\n",
        "y = np.arange(3, dtype=float)\n",
        "print(y)\n",
        "z= np.zeros_like(y)\n",
        "print(z)"
      ],
      "execution_count": 4,
      "outputs": [
        {
          "output_type": "stream",
          "text": [
            "[[0. 0. 0.]\n",
            " [0. 0. 0.]\n",
            " [0. 0. 0.]\n",
            " [0. 0. 0.]]\n",
            "[[0 0 0 0]\n",
            " [0 0 0 0]\n",
            " [0 0 0 0]]\n",
            "[0. 1. 2.]\n",
            "[0. 0. 0.]\n"
          ],
          "name": "stdout"
        }
      ]
    },
    {
      "cell_type": "code",
      "metadata": {
        "id": "eSLY-kfgewnm",
        "colab": {
          "base_uri": "https://localhost:8080/"
        },
        "outputId": "7b037014-c6a9-4bc1-b716-f4ca9749dad3"
      },
      "source": [
        "import numpy as np \n",
        "a= np.full((2, 2), np.inf)\n",
        "print(a)\n",
        "b=np.full((2, 2), 10)\n",
        "print(b)\n",
        "c=np.full((2, 2), [1, 2])\n",
        "print(c)\n"
      ],
      "execution_count": 5,
      "outputs": [
        {
          "output_type": "stream",
          "text": [
            "[[inf inf]\n",
            " [inf inf]]\n",
            "[[10 10]\n",
            " [10 10]]\n",
            "[[1 2]\n",
            " [1 2]]\n"
          ],
          "name": "stdout"
        }
      ]
    },
    {
      "cell_type": "code",
      "metadata": {
        "id": "NZTy9VgqeyjE",
        "colab": {
          "base_uri": "https://localhost:8080/"
        },
        "outputId": "ad07b41c-1e18-4f6c-80b0-0db88c1aca4c"
      },
      "source": [
        "import numpy as np \n",
        "a= np.full((2, 4), np.inf)\n",
        "print(a)\n",
        "b=np.full((2, 2), 10)\n",
        "print(b)\n",
        "b1=np.full((2,4),10, dtype=np.int32)\n",
        "print(b1)\n",
        "c=np.full((2, 2), [1, 2])\n",
        "print(c)\n"
      ],
      "execution_count": 6,
      "outputs": [
        {
          "output_type": "stream",
          "text": [
            "[[inf inf inf inf]\n",
            " [inf inf inf inf]]\n",
            "[[10 10]\n",
            " [10 10]]\n",
            "[[10 10 10 10]\n",
            " [10 10 10 10]]\n",
            "[[1 2]\n",
            " [1 2]]\n"
          ],
          "name": "stdout"
        }
      ]
    },
    {
      "cell_type": "code",
      "metadata": {
        "id": "TP_hvQ2je0WF",
        "colab": {
          "base_uri": "https://localhost:8080/"
        },
        "outputId": "6e40eece-2623-498e-a6ae-019b7f13de50"
      },
      "source": [
        "import numpy as np \n",
        "\n",
        "x = np.arange(6, dtype=int)\n",
        "a=np.full_like(x, 1)\n",
        "print(a)\n",
        "b=np.full_like(x, 0.1)\n",
        "print(b)\n",
        "c=np.full_like(x, 0.1, dtype=np.double)\n",
        "print(c)\n",
        "d=np.full_like(x, np.nan, dtype=np.double)\n",
        "print(d)\n"
      ],
      "execution_count": 8,
      "outputs": [
        {
          "output_type": "stream",
          "text": [
            "[1 1 1 1 1 1]\n",
            "[0 0 0 0 0 0]\n",
            "[0.1 0.1 0.1 0.1 0.1 0.1]\n",
            "[nan nan nan nan nan nan]\n"
          ],
          "name": "stdout"
        }
      ]
    },
    {
      "cell_type": "code",
      "metadata": {
        "id": "HnZ7jkEUe2b9",
        "colab": {
          "base_uri": "https://localhost:8080/"
        },
        "outputId": "de3c8e29-c54a-4230-8618-b34f1a385e5f"
      },
      "source": [
        "import numpy as np \n",
        "x = np.arange(6, dtype=np.int32)\n",
        "a=np.full_like(x, 75)\n",
        "print(a)\n",
        "b=np.full_like(x, 25)\n",
        "print(b)\n",
        "c=np.full_like(x, 10.101, dtype=np.double)\n",
        "print(c)\n",
        "d=np.full_like(x, '10.5', dtype=np.double)\n",
        "print(d)\n"
      ],
      "execution_count": 11,
      "outputs": [
        {
          "output_type": "stream",
          "text": [
            "[75 75 75 75 75 75]\n",
            "[25 25 25 25 25 25]\n",
            "[10.101 10.101 10.101 10.101 10.101 10.101]\n",
            "[10.5 10.5 10.5 10.5 10.5 10.5]\n"
          ],
          "name": "stdout"
        }
      ]
    },
    {
      "cell_type": "code",
      "metadata": {
        "id": "Ap5jlGA0e7-0",
        "colab": {
          "base_uri": "https://localhost:8080/"
        },
        "outputId": "02352d83-4199-44e7-ecf2-656cb9c69ba7"
      },
      "source": [
        "import numpy as np \n",
        "x = np.arange(6, dtype=np.int32)\n",
        "a=np.full_like(x, 75)\n",
        "print(a)\n",
        "b=np.full_like(x, 'knp', dtype=np.string_)\n",
        "print(b)\n",
        "c=np.full_like(x, 10.101, dtype=np.double)\n",
        "print(c)\n",
        "d=np.full_like(x, '10.5', dtype=np.double)\n",
        "print(d)\n"
      ],
      "execution_count": 12,
      "outputs": [
        {
          "output_type": "stream",
          "text": [
            "[75 75 75 75 75 75]\n",
            "[b'k' b'k' b'k' b'k' b'k' b'k']\n",
            "[10.101 10.101 10.101 10.101 10.101 10.101]\n",
            "[10.5 10.5 10.5 10.5 10.5 10.5]\n"
          ],
          "name": "stdout"
        }
      ]
    },
    {
      "cell_type": "code",
      "metadata": {
        "id": "vGwwXu1ee_-X"
      },
      "source": [
        "import numpy as np \n",
        "\n",
        "x = np.array([1, 2, 3])\n",
        "y = x\n",
        "z = np.copy(x)\n",
        "\n",
        "x[0] = 10\n",
        "x[0] == y[0]\n",
        "print( x[0] == z[0] )\n",
        "\n",
        "a = np.array([1, 'm', [2, 3, 4]], dtype=object)\n",
        "b = np.copy(a)\n",
        "b[2][0] = 10\n",
        "print(a)\n"
      ],
      "execution_count": null,
      "outputs": []
    },
    {
      "cell_type": "code",
      "metadata": {
        "id": "3BQPhpAPfAyW"
      },
      "source": [
        "import numpy as np \n",
        "print( np.eye(3))\n",
        "print( np.full((3,4),8))\n",
        "print(np.random.rand(2,7))\n",
        "print(np.random.rand(2,7)*100)\n",
        "print(np.random.randint(6, size=(2,7)))\n",
        "\n"
      ],
      "execution_count": null,
      "outputs": []
    },
    {
      "cell_type": "code",
      "metadata": {
        "id": "nk3WDpmsfCYi"
      },
      "source": [
        "import numpy as np \n",
        "ar=np.array([2,4,6,8,10,12])\n",
        "print(ar)\n",
        "print(ar[1])\n",
        "print(ar[1:])\n",
        "print(ar[:1])\n",
        "print(ar[1:4])\n",
        "print(ar[1:-2])\n",
        "print(ar[1:7:2])\n",
        "\n",
        "\n",
        "\n"
      ],
      "execution_count": null,
      "outputs": []
    },
    {
      "cell_type": "code",
      "metadata": {
        "id": "LiwRHa1UfEUW"
      },
      "source": [
        "import numpy as np \n",
        "ar=np.array( [ [2,4,6], [8,10,12] ,[1,3,5]] )\n",
        "print(ar)\n",
        "print(ar[1:,2:])\n",
        "print(ar[1:,0])\n",
        "print(ar[0,:1])\n",
        "print(ar[-1 , 1:])\n",
        "print(ar[1:-2])\n",
        "print(ar[1:3])\n",
        "print(ar[::1, ::3])\n",
        "\n",
        "\n",
        "\n"
      ],
      "execution_count": null,
      "outputs": []
    },
    {
      "cell_type": "code",
      "metadata": {
        "id": "WXxTDmbjfGev"
      },
      "source": [
        "import numpy as np \n",
        "ar=np.array( [ [2,4,6], [8,10,12] ,[1,3,5] , [11,22,33]] )\n",
        "print(ar)\n",
        "print(ar[1:3,2:4])\n",
        "print(ar[1:3,0:3])\n",
        "print(ar[0:3,0:1])\n",
        "print(ar[:: , 1:])\n",
        "print(ar[1:-2 , ::])\n",
        "print(ar[1:3 , 3:-1])\n",
        "print(ar[::2, ::1])\n",
        "\n",
        "\n",
        "\n"
      ],
      "execution_count": null,
      "outputs": []
    },
    {
      "cell_type": "code",
      "metadata": {
        "id": "xDHDsS0_fJl-"
      },
      "source": [
        "import numpy as np \n",
        "a=[1,3,5]\n",
        "b=[2,3,6]\n",
        "c=[ [11,22,33] , [44,55,66]]\n",
        "d= [  [100] , [200]]\n",
        "print(a,b,c,d)\n",
        "x=np.vstack(a,b)\n",
        "y=np.hstack(b,c)\n",
        "print(x)\n",
        "print(y)\n",
        "z=np.vstack(c,d)\n",
        "print(z)\n",
        "\n",
        "\n"
      ],
      "execution_count": null,
      "outputs": []
    },
    {
      "cell_type": "code",
      "metadata": {
        "id": "NW7OX76OfLZR"
      },
      "source": [
        "\n",
        "import numpy as np \n",
        "x=np.array([ [1,2,3,4,5] , [5,4,3,2,1] ,[6,7,8,9,10] , [10,9,8,7,6] ])\n",
        "\n",
        "print(x[1:3 , 3:1:-1])\n",
        "print(x[1:3 , ])\n",
        "print(x[: , 3:1:-1])\n"
      ],
      "execution_count": null,
      "outputs": []
    },
    {
      "cell_type": "code",
      "metadata": {
        "id": "iQ5OYYo0fNDm"
      },
      "source": [
        "import numpy as np\n",
        "f = np.array([1,2,3])\n",
        "g = np.array([4,5,6])\n",
        "\n",
        "print('Horizontal Append:', np.hstack((f, g)))\n",
        "print('Vertical Append:'); print(np.vstack((f, g)))\n"
      ],
      "execution_count": null,
      "outputs": []
    },
    {
      "cell_type": "code",
      "metadata": {
        "colab": {
          "base_uri": "https://localhost:8080/"
        },
        "id": "J86Teb_T2g7r",
        "outputId": "3a771bc9-e099-41a7-99ca-54a2e732cc86"
      },
      "source": [
        "print(print('ok'))"
      ],
      "execution_count": null,
      "outputs": [
        {
          "output_type": "stream",
          "text": [
            "ok\n",
            "None\n"
          ],
          "name": "stdout"
        }
      ]
    }
  ]
}